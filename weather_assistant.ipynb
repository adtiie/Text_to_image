{
 "cells": [
  {
   "cell_type": "code",
   "execution_count": 2,
   "metadata": {},
   "outputs": [],
   "source": [
    "import speech_recognition as sr\n",
    "import pyttsx3\n",
    "import requests\n",
    "import datetime"
   ]
  },
  {
   "cell_type": "code",
   "execution_count": 3,
   "metadata": {},
   "outputs": [
    {
     "name": "stdout",
     "output_type": "stream",
     "text": [
      "please speak something\n"
     ]
    },
    {
     "ename": "TypeError",
     "evalue": "recognize_legacy() got an unexpected keyword argument 'Language'",
     "output_type": "error",
     "traceback": [
      "\u001b[1;31m---------------------------------------------------------------------------\u001b[0m",
      "\u001b[1;31mTypeError\u001b[0m                                 Traceback (most recent call last)",
      "Cell \u001b[1;32mIn[3], line 12\u001b[0m\n\u001b[0;32m     10\u001b[0m \u001b[38;5;28mprint\u001b[39m(\u001b[38;5;124m\"\u001b[39m\u001b[38;5;124mplease speak something\u001b[39m\u001b[38;5;124m\"\u001b[39m)\n\u001b[0;32m     11\u001b[0m audio \u001b[38;5;241m=\u001b[39m recognizer\u001b[38;5;241m.\u001b[39mlisten(source , timeout\u001b[38;5;241m=\u001b[39m\u001b[38;5;241m5\u001b[39m,phrase_time_limit\u001b[38;5;241m=\u001b[39m\u001b[38;5;241m10\u001b[39m)\n\u001b[1;32m---> 12\u001b[0m text \u001b[38;5;241m=\u001b[39m \u001b[43mrecognizer\u001b[49m\u001b[38;5;241;43m.\u001b[39;49m\u001b[43mrecognize_google\u001b[49m\u001b[43m(\u001b[49m\u001b[43maudio\u001b[49m\u001b[43m \u001b[49m\u001b[43m,\u001b[49m\u001b[43m \u001b[49m\u001b[43mLanguage\u001b[49m\u001b[38;5;241;43m=\u001b[39;49m\u001b[38;5;124;43m\"\u001b[39;49m\u001b[38;5;124;43men-US\u001b[39;49m\u001b[38;5;124;43m\"\u001b[39;49m\u001b[43m)\u001b[49m\n\u001b[0;32m     13\u001b[0m \u001b[38;5;28mprint\u001b[39m(\u001b[38;5;124m\"\u001b[39m\u001b[38;5;124myou said :\u001b[39m\u001b[38;5;124m\"\u001b[39m, text)\n",
      "\u001b[1;31mTypeError\u001b[0m: recognize_legacy() got an unexpected keyword argument 'Language'"
     ]
    }
   ],
   "source": [
    "engine = pyttsx3.init()\n",
    "engine.say(\"Hello I am your assistsant. How can i help you\")\n",
    "engine.runAndWait()\n",
    "\n",
    "while True:\n",
    "    recognizer = sr.Recognizer()\n",
    "\n",
    "    with sr.Microphone() as source:\n",
    "        recognizer.adjust_for_ambient_noise(source,duration=2)\n",
    "        print(\"please speak something\")\n",
    "        audio = recognizer.listen(source , timeout=5,phrase_time_limit=10)\n",
    "        text = recognizer.recognize_google(audio , Language=\"en-US\")\n",
    "        print(\"you said :\", text)"
   ]
  },
  {
   "cell_type": "code",
   "execution_count": null,
   "metadata": {},
   "outputs": [
    {
     "name": "stdout",
     "output_type": "stream",
     "text": [
      "please speak something\n",
      "you said : hello\n"
     ]
    }
   ],
   "source": [
    "while True:\n",
    "    recognizer = sr.Recognizer()\n",
    "\n",
    "    with sr.Microphone() as source:\n",
    "        recognizer.adjust_for_ambient_noise(source,duration=2)\n",
    "        print(\"please speak something\")\n",
    "        try:\n",
    "            audio = recognizer.listen(source , timeout=5,phrase_time_limit=10)\n",
    "            text = recognizer.recognize_google(audio ,language=\"en-US\").lower()\n",
    "            print(\"you said :\", text)\n",
    "        except sr.UnknownValueError:\n",
    "            print(\"assistant:sorry didnt understood\")\n",
    "\n",
    "        if \"Weather\" in text:\n",
    "            city = \"Shirpur\"\n",
    "            api_key =\"7926ecbcc7123fa1f94118a54abd8caa\"\n",
    "            url = f\"https://home.openweathermap.org/api_keys?q={city}&appid={api_key}&units=metric\"\n",
    "            response = requests.get(url)\n",
    "            if response.status_code == 200:\n",
    "                data = response.json()\n",
    "                weather = data[\"weather\"][0][\"description\"]\n",
    "                temp = data[\"main\"][\"temp\"]\n",
    "                print(f\"assistant: the weather in {city}is {weather}with a tempreature of {temp}°C \")\n",
    "                engine.say(f\"assistant: the weather in {city}is {weather}with a tempreature of {temp}°C \")\n",
    "            else:\n",
    "                engine.say(\"cant\")\n",
    "                print(\"sorry,i cant\")\n",
    "            engine.runAndWait()\n",
    "\n",
    "        elif \"time\" in text:\n",
    "            time = datetime.datetime.now().strftime(\"%I:%M%p\")\n",
    "            print(time)\n",
    "        elif \"exit\" or\"quit\" in text:\n",
    "            break\n",
    "                   "
   ]
  },
  {
   "cell_type": "code",
   "execution_count": 26,
   "metadata": {},
   "outputs": [
    {
     "name": "stdout",
     "output_type": "stream",
     "text": [
      "please speak something\n",
      "you said : hello what is weather\n",
      "assistant: the weather in Shirpur is clear sky with a temperature of 27.26°C\n",
      "please speak something\n",
      "you said : exit\n",
      "Goodbye\n"
     ]
    }
   ],
   "source": [
    "import speech_recognition as sr\n",
    "import requests\n",
    "import datetime\n",
    "#import pyttsx3 #uncomment if using pyttsx3\n",
    "\n",
    "#engine = pyttsx3.init() #uncomment if using pyttsx3\n",
    "\n",
    "while True:\n",
    "    recognizer = sr.Recognizer()\n",
    "\n",
    "    with sr.Microphone() as source:\n",
    "        recognizer.adjust_for_ambient_noise(source, duration=2)\n",
    "        print(\"please speak something\")\n",
    "        try:\n",
    "            audio = recognizer.listen(source, timeout=5, phrase_time_limit=10)\n",
    "            text = recognizer.recognize_google(audio, language=\"en-US\").lower()\n",
    "            print(\"you said :\", text)\n",
    "        except sr.UnknownValueError:\n",
    "            print(\"assistant:sorry didnt understood\")\n",
    "            continue # added continue to go to the next loop iteration.\n",
    "        except sr.WaitTimeoutError:\n",
    "            print(\"Timeout: No speech detected.\")\n",
    "            continue # added continue to go to the next loop iteration.\n",
    "        except sr.RequestError as e:\n",
    "            print(f\"Could not request results from Google Speech Recognition service; {e}\")\n",
    "            continue # added continue to go to the next loop iteration.\n",
    "\n",
    "        if \"weather\" in text:\n",
    "            city = \"Shirpur\"\n",
    "            api_key = \"7926ecbcc7123fa1f94118a54abd8caa\"\n",
    "            url = f\"https://api.openweathermap.org/data/2.5/weather?q={city}&appid={api_key}&units=metric\" #correct URL\n",
    "\n",
    "            try:\n",
    "                response = requests.get(url)\n",
    "                response.raise_for_status()\n",
    "                data = response.json()\n",
    "                weather = data[\"weather\"][0][\"description\"]\n",
    "                temp = data[\"main\"][\"temp\"]\n",
    "                print(f\"assistant: the weather in {city} is {weather} with a temperature of {temp}°C\")\n",
    "                #engine.say(f\"assistant: the weather in {city} is {weather} with a temperature of {temp}°C\") #uncomment if using pyttsx3\n",
    "                #engine.runAndWait() #uncomment if using pyttsx3\n",
    "\n",
    "            except requests.exceptions.RequestException as e:\n",
    "                print(f\"sorry, I can't get the weather right now. Error: {e}\")\n",
    "                #engine.say(\"cant\") #uncomment if using pyttsx3\n",
    "                #engine.runAndWait() #uncomment if using pyttsx3\n",
    "                print(\"sorry, i cant\")\n",
    "            except (KeyError, IndexError, TypeError) as e:\n",
    "                print(f\"sorry, I encountered an error parsing the weather data. Error: {e}\")\n",
    "                #engine.say(\"cant\") #uncomment if using pyttsx3\n",
    "                #engine.runAndWait() #uncomment if using pyttsx3\n",
    "                print(\"sorry, i cant\")\n",
    "\n",
    "        elif \"time\" in text:\n",
    "            time = datetime.datetime.now().strftime(\"%I:%M%p\")\n",
    "            print(time)\n",
    "            #engine.say(time) #uncomment if using pyttsx3\n",
    "            #engine.runAndWait() #uncomment if using pyttsx3\n",
    "\n",
    "        elif \"exit\" in text or \"quit\" in text: #corrected elif condition\n",
    "            #engine.say(\"Goodbye\") #uncomment if using pyttsx3\n",
    "            #engine.runAndWait() #uncomment if using pyttsx3\n",
    "            print(\"Goodbye\")\n",
    "            break\n",
    "\n",
    "        #engine.runAndWait() #uncomment if using pyttsx3, and remove the runAndWait in the weather if statement.\n",
    "   \n",
    "\n"
   ]
  },
  {
   "cell_type": "code",
   "execution_count": 7,
   "metadata": {},
   "outputs": [
    {
     "name": "stdout",
     "output_type": "stream",
     "text": [
      "assistant: the weather in Shirpur is clear sky with a temperature of 27.26°C\n",
      "assistant: the weather in Shirpur is clear sky with a temperature of 27.26°C\n"
     ]
    }
   ],
   "source": [
    "import requests\n",
    "#import pyttsx3 #uncomment if using pyttsx3\n",
    "\n",
    "def get_weather(text):\n",
    "    if \"weather\" in text.lower():\n",
    "        city = \"Shirpur\"\n",
    "        api_key = \"7926ecbcc7123fa1f94118a54abd8caa\"\n",
    "        url = f\"https://api.openweathermap.org/data/2.5/weather?q={city}&appid={api_key}&units=metric\"\n",
    "\n",
    "        try:\n",
    "            response = requests.get(url)\n",
    "            response.raise_for_status()\n",
    "            data = response.json()\n",
    "            weather = data[\"weather\"][0][\"description\"]\n",
    "            temp = data[\"main\"][\"temp\"]\n",
    "            print(f\"assistant: the weather in {city} is {weather} with a temperature of {temp}°C\")\n",
    "            #engine = pyttsx3.init() #uncomment if using pyttsx3\n",
    "            #engine.say(f\"assistant: the weather in {city} is {weather} with a temperature of {temp}°C\") #uncomment if using pyttsx3\n",
    "            #engine.runAndWait() #uncomment if using pyttsx3\n",
    "            return f\"assistant: the weather in {city} is {weather} with a temperature of {temp}°C\"\n",
    "\n",
    "        except requests.exceptions.RequestException as e:\n",
    "            print(f\"sorry, I can't get the weather right now. Error: {e}\")\n",
    "            #engine = pyttsx3.init() #uncomment if using pyttsx3\n",
    "            #engine.say(\"sorry, I can't get the weather right now.\") #uncomment if using pyttsx3\n",
    "            #engine.runAndWait() #uncomment if using pyttsx3\n",
    "            return \"sorry, I can't get the weather right now.\"\n",
    "\n",
    "        except (KeyError, IndexError, TypeError) as e:\n",
    "            print(f\"sorry, I encountered an error parsing the weather data. Error: {e}\")\n",
    "            #engine = pyttsx3.init() #uncomment if using pyttsx3\n",
    "            #engine.say(\"sorry, I encountered an error parsing the weather data.\") #uncomment if using pyttsx3\n",
    "            #engine.runAndWait() #uncomment if using pyttsx3\n",
    "            return \"sorry, I encountered an error parsing the weather data.\"\n",
    "\n",
    "    return None\n",
    "\n",
    "# Example usage:\n",
    "text_input = \"What is the weather like?\"\n",
    "result = get_weather(text_input)\n",
    "if result:\n",
    "    print(result)"
   ]
  }
 ],
 "metadata": {
  "kernelspec": {
   "display_name": "Python 3",
   "language": "python",
   "name": "python3"
  },
  "language_info": {
   "codemirror_mode": {
    "name": "ipython",
    "version": 3
   },
   "file_extension": ".py",
   "mimetype": "text/x-python",
   "name": "python",
   "nbconvert_exporter": "python",
   "pygments_lexer": "ipython3",
   "version": "3.11.1"
  }
 },
 "nbformat": 4,
 "nbformat_minor": 2
}
